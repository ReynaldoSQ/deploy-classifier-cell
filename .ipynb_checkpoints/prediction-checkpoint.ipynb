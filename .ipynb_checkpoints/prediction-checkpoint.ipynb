{
 "cells": [
  {
   "cell_type": "code",
   "execution_count": 1,
   "metadata": {},
   "outputs": [],
   "source": [
    "from fastai.vision import load_learner, open_image"
   ]
  },
  {
   "cell_type": "code",
   "execution_count": 10,
   "metadata": {},
   "outputs": [],
   "source": [
    "def img_load(dir_url):\n",
    "    img=open_image(dir_url)\n",
    "    return img"
   ]
  },
  {
   "cell_type": "code",
   "execution_count": 13,
   "metadata": {},
   "outputs": [],
   "source": [
    "def prediction(dir, img):\n",
    "    Clasificador=load_learner(dir)\n",
    "    indices={0: 'ductal', 1: 'lobular'}\n",
    "    #categoria,tensor,array_prob\n",
    "    cat,t,arr=Clasificador.predict(img)\n",
    "    arr=arr*100\n",
    "    pred='Lobular: '+str(arr[1])+ ' Ductal: '+ str(arr[0])\n",
    "    \n",
    "    return pred "
   ]
  },
  {
   "cell_type": "code",
   "execution_count": 16,
   "metadata": {},
   "outputs": [
    {
     "name": "stderr",
     "output_type": "stream",
     "text": [
      "D:\\Programas\\Anaconda\\envs\\DataScience\\lib\\site-packages\\torch\\serialization.py:657: SourceChangeWarning: source code of class 'torch.nn.modules.conv.Conv2d' has changed. you can retrieve the original source code by accessing the object's source attribute or set `torch.nn.Module.dump_patches = True` and use the patch tool to revert the changes.\n",
      "  warnings.warn(msg, SourceChangeWarning)\n"
     ]
    },
    {
     "name": "stdout",
     "output_type": "stream",
     "text": [
      "Lobular: tensor(99.2337) Ductal: tensor(0.7663)\n"
     ]
    }
   ],
   "source": [
    "# dir='./'\n",
    "# img=img_load('.\\imagenes_pruebas\\Lobular_15.tif')\n",
    "# res=prediction(dir,img)\n",
    "# print(res)"
   ]
  },
  {
   "cell_type": "code",
   "execution_count": null,
   "metadata": {},
   "outputs": [],
   "source": []
  }
 ],
 "metadata": {
  "kernelspec": {
   "display_name": "Python 3",
   "language": "python",
   "name": "python3"
  },
  "language_info": {
   "codemirror_mode": {
    "name": "ipython",
    "version": 3
   },
   "file_extension": ".py",
   "mimetype": "text/x-python",
   "name": "python",
   "nbconvert_exporter": "python",
   "pygments_lexer": "ipython3",
   "version": "3.7.7"
  }
 },
 "nbformat": 4,
 "nbformat_minor": 4
}
